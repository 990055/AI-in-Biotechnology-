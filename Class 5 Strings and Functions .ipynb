{
 "cells": [
  {
   "cell_type": "markdown",
   "id": "87798d2f",
   "metadata": {},
   "source": [
    "## 1.Strings Concatenation ##"
   ]
  },
  {
   "cell_type": "code",
   "execution_count": 6,
   "id": "bc602384",
   "metadata": {},
   "outputs": [
    {
     "name": "stdout",
     "output_type": "stream",
     "text": [
      " I am Mansi Chandra, I am from Bangalore\n"
     ]
    }
   ],
   "source": [
    "name = \" I am Mansi Chandra\"\n",
    "city = \"I am from Bangalore\"\n",
    "\n",
    "info = name + \", \" + city\n",
    "print(info)"
   ]
  },
  {
   "cell_type": "code",
   "execution_count": 9,
   "id": "e562751b",
   "metadata": {},
   "outputs": [
    {
     "name": "stdout",
     "output_type": "stream",
     "text": [
      "I am Mansi Chandra and I am from Bangalore\n"
     ]
    }
   ],
   "source": [
    "name = \"Mansi\"\n",
    "last_name = \"Chandra\"\n",
    "city = \"Bangalore\"\n",
    "\n",
    "print(\"I am \" + name + \" \" + last_name + \" \" +  \"and I am from \" + city)"
   ]
  },
  {
   "cell_type": "code",
   "execution_count": 19,
   "id": "dfd1ca62",
   "metadata": {},
   "outputs": [
    {
     "name": "stdout",
     "output_type": "stream",
     "text": [
      "The student's name is Mansi Chandra, she is from 21 and studied 4 years of study\n"
     ]
    }
   ],
   "source": [
    "student = { \n",
    "    \"name\" : \"Mansi Chandra\",\n",
    "     \"age\" : \"21\",\n",
    "    \"year of study\" : 4\n",
    "    }\n",
    "info = \"The student's name is \" + student[\"name\"] + \", she is from \" + student[\"age\"] + \" and studied \" +  str(student[\"year of study\"]) + \" years of study\"\n",
    "print(info)"
   ]
  },
  {
   "cell_type": "markdown",
   "id": "041fb523",
   "metadata": {},
   "source": [
    "### Format"
   ]
  },
  {
   "cell_type": "code",
   "execution_count": 30,
   "id": "068605e3",
   "metadata": {},
   "outputs": [
    {
     "name": "stdout",
     "output_type": "stream",
     "text": [
      " The student's name is Mansi Chandra, she is 21 years old and she is in 4 year.\n"
     ]
    }
   ],
   "source": [
    "student = { \n",
    "    \"name\" : \"Mansi Chandra\",\n",
    "     \"age\" : \"21\",\n",
    "    \"year of study\" : 4\n",
    "    }\n",
    "info = \" The student's name is {}, she is {} years old and she is in {} year.\".format(student[\"name\"], student[\"age\"], student[\"year of study\"])\n",
    "print(info)"
   ]
  },
  {
   "cell_type": "code",
   "execution_count": 36,
   "id": "68af9dcd",
   "metadata": {},
   "outputs": [
    {
     "name": "stdout",
     "output_type": "stream",
     "text": [
      "Name Heena Kauser and email id is Heena_Kauser@gamil.com.\n"
     ]
    }
   ],
   "source": [
    "student = {\n",
    "    \"first_name\" : \"Heena\",\n",
    "    \"last_name\" : \"Kauser\"\n",
    "}\n",
    "info = \"Name {0} {1} and email id is {0}_{1}@gamil.com.\" .format(student[\"first_name\"], student[\"last_name\"])\n",
    "print(info)"
   ]
  },
  {
   "cell_type": "code",
   "execution_count": 42,
   "id": "35bab042",
   "metadata": {},
   "outputs": [
    {
     "name": "stdout",
     "output_type": "stream",
     "text": [
      "My name Heena Kauser and email id is Heena_Kauser@gmail.com.\n"
     ]
    }
   ],
   "source": [
    "my_details = {\n",
    "    \"first_name\" : \"Mansi\",\n",
    "    \"last_name\" : \"Chandra\"\n",
    "}\n",
    "info = \"My name {0} {1} and email id is {0}_{1}@gmail.com.\" .format(student[\"first_name\"], student[\"last_name\"])\n",
    "print(info)"
   ]
  },
  {
   "cell_type": "code",
   "execution_count": 47,
   "id": "f99f710e",
   "metadata": {},
   "outputs": [
    {
     "name": "stdout",
     "output_type": "stream",
     "text": [
      "The student's name is Mansi, her age is 21 and she is in 4th year\n"
     ]
    }
   ],
   "source": [
    "info = \"The student's name is {name}, her age is {age} and she is in {year}th year\". format(name=\"Mansi\", age=\"21\", year=\"4\") \n",
    "print(info)"
   ]
  },
  {
   "cell_type": "markdown",
   "id": "f841d6e1",
   "metadata": {},
   "source": [
    "### Functions\n",
    "Functions are the block of code that only run when invoked "
   ]
  },
  {
   "cell_type": "code",
   "execution_count": 64,
   "id": "240238ce",
   "metadata": {},
   "outputs": [],
   "source": [
    "def my_function():\n",
    "    print(\"Hello python!\")"
   ]
  },
  {
   "cell_type": "code",
   "execution_count": 65,
   "id": "e773d9b1",
   "metadata": {},
   "outputs": [
    {
     "name": "stdout",
     "output_type": "stream",
     "text": [
      "Hello python!\n"
     ]
    }
   ],
   "source": [
    "my_function()"
   ]
  },
  {
   "cell_type": "code",
   "execution_count": 68,
   "id": "f1a56fbf",
   "metadata": {},
   "outputs": [
    {
     "ename": "SyntaxError",
     "evalue": "unexpected EOF while parsing (1215168475.py, line 2)",
     "output_type": "error",
     "traceback": [
      "\u001b[1;36m  File \u001b[1;32m\"C:\\Users\\91984\\AppData\\Local\\Temp\\ipykernel_2960\\1215168475.py\"\u001b[1;36m, line \u001b[1;32m2\u001b[0m\n\u001b[1;33m    print(\"Student's name is {fname} {lname} and the email id is {lname}_{fname}@gmail.com\".format(fname=first_name, lname=last_name)\u001b[0m\n\u001b[1;37m                                                                                                                                     ^\u001b[0m\n\u001b[1;31mSyntaxError\u001b[0m\u001b[1;31m:\u001b[0m unexpected EOF while parsing\n"
     ]
    }
   ],
   "source": [
    "def my_function(first_name, last_name):\n",
    "    print(\"Student's name is {fname} {lname} and the email ID is {lname}_{fname}@gmail.com\".format(fname=first_name, lname=last_name)"
   ]
  },
  {
   "cell_type": "code",
   "execution_count": 1,
   "id": "221ba049",
   "metadata": {},
   "outputs": [
    {
     "ename": "NameError",
     "evalue": "name 'my_function' is not defined",
     "output_type": "error",
     "traceback": [
      "\u001b[1;31m---------------------------------------------------------------------------\u001b[0m",
      "\u001b[1;31mNameError\u001b[0m                                 Traceback (most recent call last)",
      "\u001b[1;32m~\\AppData\\Local\\Temp\\ipykernel_10620\\4203801477.py\u001b[0m in \u001b[0;36m<module>\u001b[1;34m\u001b[0m\n\u001b[1;32m----> 1\u001b[1;33m \u001b[0mmy_function\u001b[0m\u001b[1;33m(\u001b[0m\u001b[1;34m\"Mansi\"\u001b[0m\u001b[1;33m,\u001b[0m \u001b[1;34m\"Chandra\"\u001b[0m\u001b[1;33m)\u001b[0m\u001b[1;33m\u001b[0m\u001b[1;33m\u001b[0m\u001b[0m\n\u001b[0m",
      "\u001b[1;31mNameError\u001b[0m: name 'my_function' is not defined"
     ]
    }
   ],
   "source": [
    "my_function(\"Mansi\", \"Chandra\")\n"
   ]
  },
  {
   "cell_type": "markdown",
   "id": "f0d7bb3a",
   "metadata": {},
   "source": [
    "### Using *orgs ###\n",
    "\n"
   ]
  },
  {
   "cell_type": "code",
   "execution_count": 6,
   "id": "69078891",
   "metadata": {},
   "outputs": [
    {
     "name": "stdout",
     "output_type": "stream",
     "text": [
      "The younger child in the family is rahul\n"
     ]
    }
   ],
   "source": [
    "def second_function(*kid):\n",
    "    print(\"The younger child in the family is \" + kid[2])\n",
    "\n",
    "second_function(\"ravi\", \"akhil\", \"rahul\") "
   ]
  },
  {
   "cell_type": "code",
   "execution_count": 12,
   "id": "ee99de36",
   "metadata": {},
   "outputs": [
    {
     "name": "stdout",
     "output_type": "stream",
     "text": [
      "apple\n",
      "mango\n",
      "orange\n",
      "raspberries\n",
      "water melon\n"
     ]
    }
   ],
   "source": [
    "fruits = [\"apple\", \"mango\", \"orange\", \"raspberries\", \"water melon\"]\n",
    "def fruits_I_like(list_of_fruits):\n",
    "    for x in list_of_fruits:\n",
    "        print(x)\n",
    "        \n",
    "fruits_I_like(fruits) "
   ]
  },
  {
   "cell_type": "code",
   "execution_count": 14,
   "id": "a91382f6",
   "metadata": {},
   "outputs": [
    {
     "name": "stdout",
     "output_type": "stream",
     "text": [
      "105\n",
      "10\n",
      "9435\n",
      "15\n",
      "170\n"
     ]
    }
   ],
   "source": [
    "def mulyiples_by_five(integer):\n",
    "    return 5 * integer\n",
    "\n",
    "print(multiples_by_five(21))\n",
    "print(multiples_by_five(2))\n",
    "print(multiples_by_five(1887))\n",
    "print(multiples_by_five(3))\n",
    "print(multiples_by_five(34))"
   ]
  },
  {
   "cell_type": "code",
   "execution_count": 20,
   "id": "819eaefe",
   "metadata": {},
   "outputs": [
    {
     "name": "stdout",
     "output_type": "stream",
     "text": [
      "402\n",
      "468\n"
     ]
    }
   ],
   "source": [
    "def division_by_six(integer):\n",
    "    return 6 * integer\n",
    "\n",
    "print(division_by_six(67))\n",
    "print(division_by_six(78))"
   ]
  },
  {
   "cell_type": "code",
   "execution_count": 23,
   "id": "cd5070eb",
   "metadata": {},
   "outputs": [
    {
     "name": "stdout",
     "output_type": "stream",
     "text": [
      "49\n",
      "83\n"
     ]
    }
   ],
   "source": [
    "def subtraction_by_seven(integer):\n",
    "    return integer - 7\n",
    "\n",
    "print(subtraction_by_seven(56))\n",
    "print(subtraction_by_seven(90))"
   ]
  },
  {
   "cell_type": "markdown",
   "id": "665574f8",
   "metadata": {},
   "source": [
    "##### Using Keywords in a function #"
   ]
  },
  {
   "cell_type": "code",
   "execution_count": 9,
   "id": "0d80de7b",
   "metadata": {},
   "outputs": [
    {
     "name": "stdout",
     "output_type": "stream",
     "text": [
      "Youngest child is Arya and Ahkil\n"
     ]
    }
   ],
   "source": [
    "def another_function(child1, child2, child3):\n",
    "    print(\"Youngest child is \" + child1 + \" and \"  + child2)\n",
    "    \n",
    "another_function(child3 = \"Ravi\", child2 = \"Ahkil\", child1 = \"Arya\")"
   ]
  },
  {
   "cell_type": "markdown",
   "id": "4d7452b0",
   "metadata": {},
   "source": [
    "##### Using **rwargs"
   ]
  },
  {
   "cell_type": "code",
   "execution_count": 6,
   "id": "73d03fdb",
   "metadata": {},
   "outputs": [
    {
     "name": "stdout",
     "output_type": "stream",
     "text": [
      "The last name is Chandra\n"
     ]
    }
   ],
   "source": [
    "def fifth_function(**kid):\n",
    "    print(\"The last name is \" + kid[\"lname\"])\n",
    "    \n",
    "fifth_function(fname = \"Mansi\", lname = \"Chandra\", mname = \"Gowda\")"
   ]
  },
  {
   "cell_type": "code",
   "execution_count": null,
   "id": "c79146e9",
   "metadata": {},
   "outputs": [],
   "source": []
  }
 ],
 "metadata": {
  "kernelspec": {
   "display_name": "Python 3 (ipykernel)",
   "language": "python",
   "name": "python3"
  },
  "language_info": {
   "codemirror_mode": {
    "name": "ipython",
    "version": 3
   },
   "file_extension": ".py",
   "mimetype": "text/x-python",
   "name": "python",
   "nbconvert_exporter": "python",
   "pygments_lexer": "ipython3",
   "version": "3.7.16"
  }
 },
 "nbformat": 4,
 "nbformat_minor": 5
}
