{
 "cells": [
  {
   "cell_type": "markdown",
   "id": "87a52165",
   "metadata": {},
   "source": [
    "# 1.Tuples ###"
   ]
  },
  {
   "cell_type": "markdown",
   "id": "0a5a8f3b",
   "metadata": {},
   "source": [
    " A tuple is a collection of different data types which is ordered and unchangeable(immutable). Tuples are written with round brackets, (). Once a tuple is created, we cannot change its value.\n",
    " \n",
    " tuple():to create an empty tuple.\n",
    " \n",
    " count(): to count the number of a specified item in a tuple.\n",
    " \n",
    " index(): to find the index of a specified item in a tuple."
   ]
  },
  {
   "cell_type": "code",
   "execution_count": 1,
   "id": "27f5847d",
   "metadata": {},
   "outputs": [],
   "source": [
    "my_tuple=tuple()"
   ]
  },
  {
   "cell_type": "code",
   "execution_count": 3,
   "id": "f8ba5194",
   "metadata": {},
   "outputs": [
    {
     "name": "stdout",
     "output_type": "stream",
     "text": [
      "()\n"
     ]
    }
   ],
   "source": [
    "print(my_tuple)"
   ]
  },
  {
   "cell_type": "code",
   "execution_count": 17,
   "id": "50de582e",
   "metadata": {},
   "outputs": [],
   "source": [
    "my_new_tuple=(\"1 7 9\")"
   ]
  },
  {
   "cell_type": "code",
   "execution_count": 18,
   "id": "395c52a6",
   "metadata": {},
   "outputs": [
    {
     "name": "stdout",
     "output_type": "stream",
     "text": [
      "1 7 9\n"
     ]
    }
   ],
   "source": [
    "print(my_new_tuple)"
   ]
  },
  {
   "cell_type": "code",
   "execution_count": 19,
   "id": "9d0bf10f",
   "metadata": {},
   "outputs": [
    {
     "data": {
      "text/plain": [
       "5"
      ]
     },
     "execution_count": 19,
     "metadata": {},
     "output_type": "execute_result"
    }
   ],
   "source": [
    "len(my_new_tuple)"
   ]
  },
  {
   "cell_type": "code",
   "execution_count": 20,
   "id": "dd7bf8cc",
   "metadata": {},
   "outputs": [
    {
     "data": {
      "text/plain": [
       "0"
      ]
     },
     "execution_count": 20,
     "metadata": {},
     "output_type": "execute_result"
    }
   ],
   "source": [
    "len(my_tuple)"
   ]
  },
  {
   "cell_type": "code",
   "execution_count": 21,
   "id": "6507cea9",
   "metadata": {},
   "outputs": [
    {
     "data": {
      "text/plain": [
       "'1'"
      ]
     },
     "execution_count": 21,
     "metadata": {},
     "output_type": "execute_result"
    }
   ],
   "source": [
    "my_new_tuple[0]"
   ]
  },
  {
   "cell_type": "code",
   "execution_count": 22,
   "id": "c0017128",
   "metadata": {},
   "outputs": [
    {
     "data": {
      "text/plain": [
       "' '"
      ]
     },
     "execution_count": 22,
     "metadata": {},
     "output_type": "execute_result"
    }
   ],
   "source": [
    "my_new_tuple [1]"
   ]
  },
  {
   "cell_type": "code",
   "execution_count": 23,
   "id": "d2e17762",
   "metadata": {},
   "outputs": [
    {
     "ename": "TypeError",
     "evalue": "'str' object does not support item assignment",
     "output_type": "error",
     "traceback": [
      "\u001b[1;31m---------------------------------------------------------------------------\u001b[0m",
      "\u001b[1;31mTypeError\u001b[0m                                 Traceback (most recent call last)",
      "\u001b[1;32m~\\AppData\\Local\\Temp\\ipykernel_15740\\2893967406.py\u001b[0m in \u001b[0;36m<module>\u001b[1;34m\u001b[0m\n\u001b[1;32m----> 1\u001b[1;33m \u001b[0mmy_new_tuple\u001b[0m\u001b[1;33m[\u001b[0m\u001b[1;36m1\u001b[0m\u001b[1;33m]\u001b[0m\u001b[1;33m=\u001b[0m\u001b[1;36m95\u001b[0m\u001b[1;33m\u001b[0m\u001b[1;33m\u001b[0m\u001b[0m\n\u001b[0m",
      "\u001b[1;31mTypeError\u001b[0m: 'str' object does not support item assignment"
     ]
    }
   ],
   "source": [
    "my_new_tuple[1]=95\n"
   ]
  },
  {
   "cell_type": "code",
   "execution_count": 25,
   "id": "ddf8bcfe",
   "metadata": {},
   "outputs": [
    {
     "ename": "TypeError",
     "evalue": "'str' object does not support item assignment",
     "output_type": "error",
     "traceback": [
      "\u001b[1;31m---------------------------------------------------------------------------\u001b[0m",
      "\u001b[1;31mTypeError\u001b[0m                                 Traceback (most recent call last)",
      "\u001b[1;32m~\\AppData\\Local\\Temp\\ipykernel_15740\\3765022427.py\u001b[0m in \u001b[0;36m<module>\u001b[1;34m\u001b[0m\n\u001b[1;32m----> 1\u001b[1;33m \u001b[0mmy_new_tuple\u001b[0m\u001b[1;33m[\u001b[0m\u001b[1;36m3\u001b[0m\u001b[1;33m]\u001b[0m\u001b[1;33m=\u001b[0m\u001b[1;36m95\u001b[0m\u001b[1;33m\u001b[0m\u001b[1;33m\u001b[0m\u001b[0m\n\u001b[0m",
      "\u001b[1;31mTypeError\u001b[0m: 'str' object does not support item assignment"
     ]
    }
   ],
   "source": [
    "my_new_tuple[3]=95"
   ]
  },
  {
   "cell_type": "markdown",
   "id": "81a13bad",
   "metadata": {},
   "source": [
    "#### We cannot use add, insert, remove methods in a tuple because it is not (mutable). Unlike list, tuple has few methods ####"
   ]
  },
  {
   "cell_type": "markdown",
   "id": "2cce50d0",
   "metadata": {},
   "source": [
    "#### slicing tuples ###"
   ]
  },
  {
   "cell_type": "code",
   "execution_count": 28,
   "id": "73ef2317",
   "metadata": {},
   "outputs": [
    {
     "data": {
      "text/plain": [
       "'1 7'"
      ]
     },
     "execution_count": 28,
     "metadata": {},
     "output_type": "execute_result"
    }
   ],
   "source": [
    "my_new_tuple[0:3]"
   ]
  },
  {
   "cell_type": "code",
   "execution_count": 30,
   "id": "515adb80",
   "metadata": {},
   "outputs": [
    {
     "data": {
      "text/plain": [
       "'1 7 9'"
      ]
     },
     "execution_count": 30,
     "metadata": {},
     "output_type": "execute_result"
    }
   ],
   "source": [
    "my_new_tuple[0:]"
   ]
  },
  {
   "cell_type": "code",
   "execution_count": 32,
   "id": "2cb82b3b",
   "metadata": {},
   "outputs": [
    {
     "data": {
      "text/plain": [
       "' 7 9'"
      ]
     },
     "execution_count": 32,
     "metadata": {},
     "output_type": "execute_result"
    }
   ],
   "source": [
    "my_new_tuple[1:]"
   ]
  },
  {
   "cell_type": "code",
   "execution_count": 33,
   "id": "773c2f46",
   "metadata": {},
   "outputs": [
    {
     "data": {
      "text/plain": [
       "'1 '"
      ]
     },
     "execution_count": 33,
     "metadata": {},
     "output_type": "execute_result"
    }
   ],
   "source": [
    "my_new_tuple[:2]"
   ]
  },
  {
   "cell_type": "code",
   "execution_count": 35,
   "id": "27aa2398",
   "metadata": {},
   "outputs": [
    {
     "data": {
      "text/plain": [
       "'1 '"
      ]
     },
     "execution_count": 35,
     "metadata": {},
     "output_type": "execute_result"
    }
   ],
   "source": [
    "my_new_tuple[:2]"
   ]
  },
  {
   "cell_type": "code",
   "execution_count": 36,
   "id": "be47578a",
   "metadata": {},
   "outputs": [],
   "source": [
    "tpl = ('item1', 'item2', 'item3', 'item4')"
   ]
  },
  {
   "cell_type": "code",
   "execution_count": 37,
   "id": "e937221f",
   "metadata": {},
   "outputs": [
    {
     "data": {
      "text/plain": [
       "('item1', 'item2', 'item3', 'item4')"
      ]
     },
     "execution_count": 37,
     "metadata": {},
     "output_type": "execute_result"
    }
   ],
   "source": [
    "tpl[-4:]"
   ]
  },
  {
   "cell_type": "code",
   "execution_count": 39,
   "id": "ff152adb",
   "metadata": {},
   "outputs": [
    {
     "data": {
      "text/plain": [
       "('item2', 'item3', 'item4')"
      ]
     },
     "execution_count": 39,
     "metadata": {},
     "output_type": "execute_result"
    }
   ],
   "source": [
    "tpl[-3:]"
   ]
  },
  {
   "cell_type": "code",
   "execution_count": 41,
   "id": "1b7a93fd",
   "metadata": {},
   "outputs": [
    {
     "data": {
      "text/plain": [
       "('item1', 'item2', 'item3', 'item4')"
      ]
     },
     "execution_count": 41,
     "metadata": {},
     "output_type": "execute_result"
    }
   ],
   "source": [
    "tpl[-4:]"
   ]
  },
  {
   "cell_type": "code",
   "execution_count": 45,
   "id": "149d4666",
   "metadata": {},
   "outputs": [
    {
     "data": {
      "text/plain": [
       "('item3', 'item4')"
      ]
     },
     "execution_count": 45,
     "metadata": {},
     "output_type": "execute_result"
    }
   ],
   "source": [
    "tpl[-2:]"
   ]
  },
  {
   "cell_type": "code",
   "execution_count": 46,
   "id": "a6af556f",
   "metadata": {},
   "outputs": [
    {
     "data": {
      "text/plain": [
       "('item2', 'item3')"
      ]
     },
     "execution_count": 46,
     "metadata": {},
     "output_type": "execute_result"
    }
   ],
   "source": [
    "tpl[-3:-1]"
   ]
  },
  {
   "cell_type": "markdown",
   "id": "2dbb0705",
   "metadata": {},
   "source": [
    "### Changing the name of Lists ###"
   ]
  },
  {
   "cell_type": "code",
   "execution_count": 47,
   "id": "31f8e212",
   "metadata": {},
   "outputs": [],
   "source": [
    "my_list=list(tpl)"
   ]
  },
  {
   "cell_type": "code",
   "execution_count": 49,
   "id": "09774369",
   "metadata": {},
   "outputs": [
    {
     "name": "stdout",
     "output_type": "stream",
     "text": [
      "['item1', 'item2', 'item3', 'item4']\n"
     ]
    }
   ],
   "source": [
    "print(my_list)"
   ]
  },
  {
   "cell_type": "markdown",
   "id": "f4c5106a",
   "metadata": {},
   "source": [
    "### Check item in tuple ###"
   ]
  },
  {
   "cell_type": "code",
   "execution_count": 50,
   "id": "1bdc96c5",
   "metadata": {},
   "outputs": [
    {
     "data": {
      "text/plain": [
       "True"
      ]
     },
     "execution_count": 50,
     "metadata": {},
     "output_type": "execute_result"
    }
   ],
   "source": [
    "'item1' in tpl"
   ]
  },
  {
   "cell_type": "markdown",
   "id": "ee722c7c",
   "metadata": {},
   "source": [
    "### Loops ###"
   ]
  },
  {
   "cell_type": "markdown",
   "id": "416ceb85",
   "metadata": {},
   "source": [
    "1.While\n",
    "2.for"
   ]
  },
  {
   "cell_type": "markdown",
   "id": "01fd875c",
   "metadata": {},
   "source": [
    "While condition:\n",
    "    codes"
   ]
  },
  {
   "cell_type": "code",
   "execution_count": 54,
   "id": "b8717124",
   "metadata": {},
   "outputs": [
    {
     "name": "stdout",
     "output_type": "stream",
     "text": [
      "Mansi chandra\n",
      "Mansi chandra\n",
      "Mansi chandra\n",
      "Mansi chandra\n",
      "Mansi chandra\n"
     ]
    }
   ],
   "source": [
    "count=0\n",
    "while count<5:\n",
    "    print(\"Mansi chandra\")\n",
    "    count=count+1"
   ]
  },
  {
   "cell_type": "markdown",
   "id": "273b78e4",
   "metadata": {},
   "source": [
    "While condition:"
   ]
  },
  {
   "cell_type": "markdown",
   "id": "3f917654",
   "metadata": {},
   "source": [
    "code goes here"
   ]
  },
  {
   "cell_type": "markdown",
   "id": "4f9d0b23",
   "metadata": {},
   "source": [
    "else:"
   ]
  },
  {
   "cell_type": "markdown",
   "id": "a3c2e8a4",
   "metadata": {},
   "source": [
    "code goes here"
   ]
  },
  {
   "cell_type": "code",
   "execution_count": 59,
   "id": "49dfd9dc",
   "metadata": {},
   "outputs": [
    {
     "name": "stdout",
     "output_type": "stream",
     "text": [
      "Anything\n",
      "Anything\n",
      "Anything\n",
      "Anything\n",
      "Anything\n",
      "Anything\n",
      "Anything\n",
      "Anything\n",
      "Anything\n",
      "Anything\n",
      "Nothing\n"
     ]
    }
   ],
   "source": [
    "count=0\n",
    "while count<10:\n",
    "    print(\"Anything\")\n",
    "    count=count+1\n",
    "else:\n",
    "    print(\"Nothing\")"
   ]
  },
  {
   "cell_type": "markdown",
   "id": "56e40f83",
   "metadata": {},
   "source": [
    "Break"
   ]
  },
  {
   "cell_type": "code",
   "execution_count": 61,
   "id": "6351b1c1",
   "metadata": {},
   "outputs": [
    {
     "name": "stdout",
     "output_type": "stream",
     "text": [
      "Anything\n"
     ]
    }
   ],
   "source": [
    "count=0\n",
    "while count<10:\n",
    "    print(\"Anything\")\n",
    "    count=count+1\n",
    "    break"
   ]
  },
  {
   "cell_type": "code",
   "execution_count": null,
   "id": "a569d879",
   "metadata": {},
   "outputs": [],
   "source": [
    "count=0\n",
    "while count>5:\n",
    "    print(\"Anything\")\n",
    "    count=count+1"
   ]
  }
 ],
 "metadata": {
  "kernelspec": {
   "display_name": "Python 3 (ipykernel)",
   "language": "python",
   "name": "python3"
  },
  "language_info": {
   "codemirror_mode": {
    "name": "ipython",
    "version": 3
   },
   "file_extension": ".py",
   "mimetype": "text/x-python",
   "name": "python",
   "nbconvert_exporter": "python",
   "pygments_lexer": "ipython3",
   "version": "3.7.16"
  }
 },
 "nbformat": 4,
 "nbformat_minor": 5
}
