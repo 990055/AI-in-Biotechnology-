{
 "cells": [
  {
   "cell_type": "code",
   "execution_count": null,
   "id": "d4a0edc3",
   "metadata": {},
   "outputs": [],
   "source": [
    "Hi! This is Mansi Chandra\n",
    "hallo, Guten Morgen mein nam ist Mansi\n",
    "nett zu meet du\n"
   ]
  }
 ],
 "metadata": {
  "kernelspec": {
   "display_name": "Python 3 (ipykernel)",
   "language": "python",
   "name": "python3"
  },
  "language_info": {
   "codemirror_mode": {
    "name": "ipython",
    "version": 3
   },
   "file_extension": ".py",
   "mimetype": "text/x-python",
   "name": "python",
   "nbconvert_exporter": "python",
   "pygments_lexer": "ipython3",
   "version": "3.7.16"
  }
 },
 "nbformat": 4,
 "nbformat_minor": 5
}
