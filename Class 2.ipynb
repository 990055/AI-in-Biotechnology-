{
 "cells": [
  {
   "cell_type": "markdown",
   "id": "70819364",
   "metadata": {},
   "source": [
    "# DATA STRUCTURE #"
   ]
  },
  {
   "cell_type": "markdown",
   "id": "9e0c694b",
   "metadata": {},
   "source": [
    "LISTS"
   ]
  },
  {
   "cell_type": "markdown",
   "id": "d0db838a",
   "metadata": {},
   "source": [
    "### What is List? ###\n",
    "Lists are data structure that contain an ordered collection of elements \n",
    "\n",
    "### Why do we use Lists? ###\n",
    "\n",
    "Lists are commonly in programming to store and organize data so it can be easily sorted, indexed or searched.\n",
    "\n",
    "## Creating  a List ##\n"
   ]
  },
  {
   "cell_type": "code",
   "execution_count": 1,
   "id": "c7c9c464",
   "metadata": {},
   "outputs": [],
   "source": [
    "list_1=[3,5,6]"
   ]
  },
  {
   "cell_type": "code",
   "execution_count": 3,
   "id": "78cca7ed",
   "metadata": {},
   "outputs": [
    {
     "name": "stdout",
     "output_type": "stream",
     "text": [
      "[3, 5, 6]\n"
     ]
    }
   ],
   "source": [
    "print(list_1)"
   ]
  },
  {
   "cell_type": "markdown",
   "id": "f282f446",
   "metadata": {},
   "source": [
    "### Adding an item to a List ###"
   ]
  },
  {
   "cell_type": "code",
   "execution_count": 4,
   "id": "446ecf5d",
   "metadata": {},
   "outputs": [],
   "source": [
    "list_1.append(45)"
   ]
  },
  {
   "cell_type": "code",
   "execution_count": 6,
   "id": "f3d47cb0",
   "metadata": {},
   "outputs": [
    {
     "name": "stdout",
     "output_type": "stream",
     "text": [
      "[3, 5, 6, 45]\n"
     ]
    }
   ],
   "source": [
    "print(list_1)"
   ]
  },
  {
   "cell_type": "markdown",
   "id": "91745940",
   "metadata": {},
   "source": [
    "### Changing an item in a List ###"
   ]
  },
  {
   "cell_type": "code",
   "execution_count": 8,
   "id": "7e7ea25b",
   "metadata": {},
   "outputs": [],
   "source": [
    "list_1[1]=12"
   ]
  },
  {
   "cell_type": "code",
   "execution_count": 10,
   "id": "b682e545",
   "metadata": {},
   "outputs": [
    {
     "name": "stdout",
     "output_type": "stream",
     "text": [
      "[3, 12, 6, 45]\n"
     ]
    }
   ],
   "source": [
    "print(list_1)"
   ]
  },
  {
   "cell_type": "markdown",
   "id": "c8e4f6c0",
   "metadata": {},
   "source": [
    "### Changing an item in a List ###"
   ]
  },
  {
   "cell_type": "code",
   "execution_count": 11,
   "id": "517d66dd",
   "metadata": {},
   "outputs": [],
   "source": [
    "list_2=[\"Mansi Chandra\", 34, 2023, 5.6]"
   ]
  },
  {
   "cell_type": "code",
   "execution_count": 14,
   "id": "fc897741",
   "metadata": {},
   "outputs": [
    {
     "name": "stdout",
     "output_type": "stream",
     "text": [
      "['Mansi Chandra', 34, 2023, 5.6]\n"
     ]
    }
   ],
   "source": [
    "print(list_2)"
   ]
  },
  {
   "cell_type": "markdown",
   "id": "bbf41701",
   "metadata": {},
   "source": [
    "### Removing an item from a List ###"
   ]
  },
  {
   "cell_type": "code",
   "execution_count": 23,
   "id": "e74ff5ac",
   "metadata": {},
   "outputs": [
    {
     "data": {
      "text/plain": [
       "2"
      ]
     },
     "execution_count": 23,
     "metadata": {},
     "output_type": "execute_result"
    }
   ],
   "source": [
    "list_2.pop(2)"
   ]
  },
  {
   "cell_type": "code",
   "execution_count": 25,
   "id": "a922692d",
   "metadata": {},
   "outputs": [
    {
     "name": "stdout",
     "output_type": "stream",
     "text": [
      "['Mansi Chandra', 2]\n"
     ]
    }
   ],
   "source": [
    "print(list_2)"
   ]
  },
  {
   "cell_type": "markdown",
   "id": "2d445344",
   "metadata": {},
   "source": [
    "### Merging two Lists ###"
   ]
  },
  {
   "cell_type": "code",
   "execution_count": 26,
   "id": "dd56f637",
   "metadata": {},
   "outputs": [],
   "source": [
    "list_1.append(list_2)"
   ]
  },
  {
   "cell_type": "code",
   "execution_count": 27,
   "id": "290edaec",
   "metadata": {},
   "outputs": [
    {
     "name": "stdout",
     "output_type": "stream",
     "text": [
      "[3, 12, 6, 45, ['Mansi Chandra', 2]]\n"
     ]
    }
   ],
   "source": [
    "print(list_1)"
   ]
  },
  {
   "cell_type": "markdown",
   "id": "1308106d",
   "metadata": {},
   "source": [
    "### Accessing items in a List ###"
   ]
  },
  {
   "cell_type": "code",
   "execution_count": 28,
   "id": "8c19b6e7",
   "metadata": {},
   "outputs": [
    {
     "data": {
      "text/plain": [
       "3"
      ]
     },
     "execution_count": 28,
     "metadata": {},
     "output_type": "execute_result"
    }
   ],
   "source": [
    "list_1[0]"
   ]
  },
  {
   "cell_type": "code",
   "execution_count": 29,
   "id": "eef6f63a",
   "metadata": {},
   "outputs": [
    {
     "data": {
      "text/plain": [
       "[3, 12, 6]"
      ]
     },
     "execution_count": 29,
     "metadata": {},
     "output_type": "execute_result"
    }
   ],
   "source": [
    "list_1[0:3]"
   ]
  },
  {
   "cell_type": "code",
   "execution_count": 30,
   "id": "742a6c58",
   "metadata": {},
   "outputs": [
    {
     "data": {
      "text/plain": [
       "[3, 12]"
      ]
     },
     "execution_count": 30,
     "metadata": {},
     "output_type": "execute_result"
    }
   ],
   "source": [
    "list_1[0:2]"
   ]
  },
  {
   "cell_type": "code",
   "execution_count": 32,
   "id": "d17a8d32",
   "metadata": {},
   "outputs": [
    {
     "name": "stdout",
     "output_type": "stream",
     "text": [
      "[3, 12, 6, 45, ['Mansi Chandra', 2]]\n"
     ]
    }
   ],
   "source": [
    "print(list_1)"
   ]
  },
  {
   "cell_type": "code",
   "execution_count": 33,
   "id": "9bbe9b74",
   "metadata": {},
   "outputs": [
    {
     "data": {
      "text/plain": [
       "['Mansi Chandra', 2]"
      ]
     },
     "execution_count": 33,
     "metadata": {},
     "output_type": "execute_result"
    }
   ],
   "source": [
    "list_1[4]"
   ]
  },
  {
   "cell_type": "code",
   "execution_count": 36,
   "id": "4c713d91",
   "metadata": {},
   "outputs": [
    {
     "name": "stdout",
     "output_type": "stream",
     "text": [
      "0\n",
      "1\n",
      "2\n",
      "3\n",
      "4\n",
      "5\n",
      "6\n",
      "7\n",
      "8\n",
      "9\n",
      "10\n",
      "11\n",
      "12\n",
      "13\n",
      "14\n",
      "15\n",
      "16\n",
      "17\n",
      "18\n",
      "19\n",
      "20\n",
      "21\n",
      "22\n",
      "23\n",
      "24\n",
      "25\n",
      "26\n",
      "27\n",
      "28\n",
      "29\n",
      "30\n",
      "31\n",
      "32\n",
      "33\n",
      "34\n",
      "35\n",
      "36\n",
      "37\n",
      "38\n",
      "39\n",
      "40\n",
      "41\n",
      "42\n",
      "43\n",
      "44\n",
      "45\n",
      "46\n",
      "47\n",
      "48\n",
      "49\n",
      "50\n",
      "51\n",
      "52\n",
      "53\n",
      "54\n",
      "55\n",
      "56\n",
      "57\n",
      "58\n",
      "59\n",
      "60\n",
      "61\n",
      "62\n",
      "63\n",
      "64\n",
      "65\n",
      "66\n",
      "67\n",
      "68\n",
      "69\n",
      "70\n",
      "71\n",
      "72\n",
      "73\n",
      "74\n",
      "75\n",
      "76\n",
      "77\n",
      "78\n",
      "79\n",
      "80\n",
      "81\n",
      "82\n",
      "83\n",
      "84\n",
      "85\n",
      "86\n",
      "87\n",
      "88\n",
      "89\n",
      "90\n",
      "91\n",
      "92\n",
      "93\n",
      "94\n",
      "95\n",
      "96\n",
      "97\n",
      "98\n",
      "99\n",
      "100\n",
      "101\n",
      "102\n",
      "103\n",
      "104\n",
      "105\n",
      "106\n",
      "107\n",
      "108\n",
      "109\n"
     ]
    }
   ],
   "source": [
    "for i in range(110):\n",
    "    print(i)"
   ]
  },
  {
   "cell_type": "code",
   "execution_count": 41,
   "id": "b968535c",
   "metadata": {},
   "outputs": [
    {
     "name": "stdout",
     "output_type": "stream",
     "text": [
      "3\n",
      "12\n",
      "6\n",
      "45\n",
      "['Mansi Chandra', 2]\n"
     ]
    }
   ],
   "source": [
    "for i in (list_1):\n",
    " print(i)"
   ]
  },
  {
   "cell_type": "code",
   "execution_count": 42,
   "id": "5f3bce1a",
   "metadata": {},
   "outputs": [],
   "source": [
    "list_1=[3,6,19]"
   ]
  },
  {
   "cell_type": "code",
   "execution_count": 45,
   "id": "c01d9041",
   "metadata": {},
   "outputs": [
    {
     "name": "stdout",
     "output_type": "stream",
     "text": [
      "9\n",
      "36\n",
      "361\n"
     ]
    }
   ],
   "source": [
    "for i in (list_1):\n",
    " print(i*i)"
   ]
  },
  {
   "cell_type": "code",
   "execution_count": 47,
   "id": "30411f42",
   "metadata": {},
   "outputs": [],
   "source": [
    "list_3=[i*i for i in list_1]"
   ]
  },
  {
   "cell_type": "code",
   "execution_count": 49,
   "id": "356e8723",
   "metadata": {},
   "outputs": [
    {
     "name": "stdout",
     "output_type": "stream",
     "text": [
      "[9, 36, 361]\n"
     ]
    }
   ],
   "source": [
    "print(list_3)"
   ]
  },
  {
   "cell_type": "markdown",
   "id": "de67bbd5",
   "metadata": {},
   "source": [
    "### Another way of creating a List ###"
   ]
  },
  {
   "cell_type": "code",
   "execution_count": 50,
   "id": "f2f5f42c",
   "metadata": {},
   "outputs": [],
   "source": [
    "list_4=list()"
   ]
  },
  {
   "cell_type": "code",
   "execution_count": 52,
   "id": "5455cce8",
   "metadata": {},
   "outputs": [
    {
     "name": "stdout",
     "output_type": "stream",
     "text": [
      "<class 'list'>\n"
     ]
    }
   ],
   "source": [
    "print(list_4)"
   ]
  },
  {
   "cell_type": "code",
   "execution_count": 64,
   "id": "866e62d3",
   "metadata": {},
   "outputs": [
    {
     "data": {
      "text/plain": [
       "[9, 36, 361, 9, 36, 361, 9, 36, 361]"
      ]
     },
     "execution_count": 64,
     "metadata": {},
     "output_type": "execute_result"
    }
   ],
   "source": [
    "for i in list_1:\n",
    "    list_3.append(i*i)\n",
    "    \n",
    "list_3"
   ]
  },
  {
   "cell_type": "markdown",
   "id": "fb74c256",
   "metadata": {},
   "source": [
    "### Checking if key exists in a List ###"
   ]
  },
  {
   "cell_type": "code",
   "execution_count": 96,
   "id": "fd981157",
   "metadata": {},
   "outputs": [
    {
     "name": "stdout",
     "output_type": "stream",
     "text": [
      "Yes\n"
     ]
    }
   ],
   "source": [
    "if 36 in list_3:\n",
    "    print(\"Yes\")"
   ]
  },
  {
   "cell_type": "markdown",
   "id": "0e2990d8",
   "metadata": {},
   "source": [
    "## Dictionaries ##\n",
    "\n",
    "#### What is a Dictionary? ####\n",
    "\n",
    "Dictionary are data structure that contain a collection of \"key\" and \"value\" pairs where each key needs to be a unique string and the value can range from a single varible, to other data structures (such as another dictionary, or a list).\n",
    "\n",
    "### Creating a Dictionary ###\n",
    "\n",
    "There are two ways to create dictionary. my_dict = dict() or my_dict = {}. The following example illstrates how to create a dictionary with keys and values.\n"
   ]
  },
  {
   "cell_type": "code",
   "execution_count": 66,
   "id": "19e0f57b",
   "metadata": {},
   "outputs": [],
   "source": [
    "dict_1={'Protein_A':174,\n",
    "        'Protein_B':226}"
   ]
  },
  {
   "cell_type": "code",
   "execution_count": 68,
   "id": "81945f10",
   "metadata": {},
   "outputs": [
    {
     "data": {
      "text/plain": [
       "{'Protein_A': 174, 'Protein_B': 226}"
      ]
     },
     "execution_count": 68,
     "metadata": {},
     "output_type": "execute_result"
    }
   ],
   "source": [
    "dict_1"
   ]
  },
  {
   "cell_type": "code",
   "execution_count": 69,
   "id": "59f0768e",
   "metadata": {},
   "outputs": [],
   "source": [
    "dict_2=dict(Protein_A=174, Protein_B=226)"
   ]
  },
  {
   "cell_type": "code",
   "execution_count": 71,
   "id": "6ce0ee92",
   "metadata": {},
   "outputs": [
    {
     "data": {
      "text/plain": [
       "{'Protein_A': 174, 'Protein_B': 226}"
      ]
     },
     "execution_count": 71,
     "metadata": {},
     "output_type": "execute_result"
    }
   ],
   "source": [
    "dict_2"
   ]
  },
  {
   "cell_type": "markdown",
   "id": "4312f511",
   "metadata": {},
   "source": [
    "### Adding items to a Doctionary ###"
   ]
  },
  {
   "cell_type": "code",
   "execution_count": 72,
   "id": "59b79adb",
   "metadata": {},
   "outputs": [],
   "source": [
    "dict_1['Protein_C']=556"
   ]
  },
  {
   "cell_type": "code",
   "execution_count": 74,
   "id": "ab853e76",
   "metadata": {},
   "outputs": [
    {
     "data": {
      "text/plain": [
       "{'Protein_A': 174, 'Protein_B': 226, 'Protein_C': 556}"
      ]
     },
     "execution_count": 74,
     "metadata": {},
     "output_type": "execute_result"
    }
   ],
   "source": [
    "dict_1"
   ]
  },
  {
   "cell_type": "code",
   "execution_count": 77,
   "id": "efefa965",
   "metadata": {},
   "outputs": [
    {
     "data": {
      "text/plain": [
       "556"
      ]
     },
     "execution_count": 77,
     "metadata": {},
     "output_type": "execute_result"
    }
   ],
   "source": [
    "dict_1['Protein_C']"
   ]
  },
  {
   "cell_type": "markdown",
   "id": "ee8cd8a0",
   "metadata": {},
   "source": [
    "### Removing items from a Dictionary ###"
   ]
  },
  {
   "cell_type": "code",
   "execution_count": 78,
   "id": "69e03e3c",
   "metadata": {},
   "outputs": [
    {
     "data": {
      "text/plain": [
       "556"
      ]
     },
     "execution_count": 78,
     "metadata": {},
     "output_type": "execute_result"
    }
   ],
   "source": [
    "dict_1.pop('Protein_C')"
   ]
  },
  {
   "cell_type": "code",
   "execution_count": 80,
   "id": "7d4e59f9",
   "metadata": {},
   "outputs": [
    {
     "data": {
      "text/plain": [
       "{'Protein_A': 174, 'Protein_B': 226}"
      ]
     },
     "execution_count": 80,
     "metadata": {},
     "output_type": "execute_result"
    }
   ],
   "source": [
    "dict_1"
   ]
  },
  {
   "cell_type": "markdown",
   "id": "cb626241",
   "metadata": {},
   "source": [
    "### Accessing items in a Dictionary ###"
   ]
  },
  {
   "cell_type": "code",
   "execution_count": 81,
   "id": "e053fb48",
   "metadata": {},
   "outputs": [
    {
     "data": {
      "text/plain": [
       "174"
      ]
     },
     "execution_count": 81,
     "metadata": {},
     "output_type": "execute_result"
    }
   ],
   "source": [
    "dict_1['Protein_A']"
   ]
  },
  {
   "cell_type": "code",
   "execution_count": 82,
   "id": "e90651b5",
   "metadata": {},
   "outputs": [
    {
     "data": {
      "text/plain": [
       "174"
      ]
     },
     "execution_count": 82,
     "metadata": {},
     "output_type": "execute_result"
    }
   ],
   "source": [
    "dict_1.get('Protein_A')"
   ]
  },
  {
   "cell_type": "code",
   "execution_count": 84,
   "id": "81e06022",
   "metadata": {},
   "outputs": [
    {
     "data": {
      "text/plain": [
       "dict_values([174, 226])"
      ]
     },
     "execution_count": 84,
     "metadata": {},
     "output_type": "execute_result"
    }
   ],
   "source": [
    "dict_1.values()"
   ]
  },
  {
   "cell_type": "code",
   "execution_count": 85,
   "id": "b1699465",
   "metadata": {},
   "outputs": [
    {
     "data": {
      "text/plain": [
       "dict_keys(['Protein_A', 'Protein_B'])"
      ]
     },
     "execution_count": 85,
     "metadata": {},
     "output_type": "execute_result"
    }
   ],
   "source": [
    "dict_1.keys()"
   ]
  },
  {
   "cell_type": "markdown",
   "id": "9f0e52f9",
   "metadata": {},
   "source": [
    "### Check if key exists in a Dictionary ###"
   ]
  },
  {
   "cell_type": "code",
   "execution_count": 97,
   "id": "e2728889",
   "metadata": {},
   "outputs": [
    {
     "name": "stdout",
     "output_type": "stream",
     "text": [
      "Yes,Protein a is in the Dictionary\n"
     ]
    }
   ],
   "source": [
    "if 'Protein_A' in dict_1:\n",
    "    print(\"Yes,Protein a is in the Dictionary\")\n",
    "    \n",
    "    "
   ]
  },
  {
   "cell_type": "code",
   "execution_count": 100,
   "id": "7c9e4990",
   "metadata": {},
   "outputs": [
    {
     "ename": "IndentationError",
     "evalue": "unindent does not match any outer indentation level (<tokenize>, line 3)",
     "output_type": "error",
     "traceback": [
      "\u001b[1;36m  File \u001b[1;32m\"<tokenize>\"\u001b[1;36m, line \u001b[1;32m3\u001b[0m\n\u001b[1;33m    else:\u001b[0m\n\u001b[1;37m    ^\u001b[0m\n\u001b[1;31mIndentationError\u001b[0m\u001b[1;31m:\u001b[0m unindent does not match any outer indentation level\n"
     ]
    }
   ],
   "source": [
    "if 'Protein_D' in dict_1:\n",
    "        print(\"Yes,Protein D is in the Dictionary\")\n",
    "    else:\n",
    "        print(\"No, Protein D is not in the Dictionary\")\n",
    "    \n",
    "    "
   ]
  },
  {
   "cell_type": "code",
   "execution_count": 102,
   "id": "10e65dfb",
   "metadata": {},
   "outputs": [],
   "source": [
    "dict_1['Protein_A']=175"
   ]
  },
  {
   "cell_type": "code",
   "execution_count": 103,
   "id": "3bd43212",
   "metadata": {},
   "outputs": [],
   "source": [
    "dict_1['Protein_B']=226"
   ]
  },
  {
   "cell_type": "code",
   "execution_count": 104,
   "id": "b37c93c2",
   "metadata": {},
   "outputs": [
    {
     "name": "stdout",
     "output_type": "stream",
     "text": [
      "{'Protein_A': 175, 'Protein_B': 226}\n"
     ]
    }
   ],
   "source": [
    "print(dict_1)"
   ]
  }
 ],
 "metadata": {
  "kernelspec": {
   "display_name": "Python 3 (ipykernel)",
   "language": "python",
   "name": "python3"
  },
  "language_info": {
   "codemirror_mode": {
    "name": "ipython",
    "version": 3
   },
   "file_extension": ".py",
   "mimetype": "text/x-python",
   "name": "python",
   "nbconvert_exporter": "python",
   "pygments_lexer": "ipython3",
   "version": "3.7.16"
  }
 },
 "nbformat": 4,
 "nbformat_minor": 5
}
