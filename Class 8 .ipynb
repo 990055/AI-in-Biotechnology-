{
 "cells": [
  {
   "cell_type": "markdown",
   "id": "ad2666ed",
   "metadata": {},
   "source": [
    "## Creating Numpy Arrays"
   ]
  },
  {
   "cell_type": "code",
   "execution_count": 1,
   "id": "b9e6519f",
   "metadata": {},
   "outputs": [
    {
     "name": "stdout",
     "output_type": "stream",
     "text": [
      "Requirement already satisfied: pandas in c:\\users\\91984\\anaconda3\\envs\\pythonclasses\\lib\\site-packages (1.3.5)\n",
      "Requirement already satisfied: python-dateutil>=2.7.3 in c:\\users\\91984\\anaconda3\\envs\\pythonclasses\\lib\\site-packages (from pandas) (2.8.2)\n",
      "Requirement already satisfied: pytz>=2017.3 in c:\\users\\91984\\anaconda3\\envs\\pythonclasses\\lib\\site-packages (from pandas) (2023.3)\n",
      "Requirement already satisfied: numpy>=1.17.3 in c:\\users\\91984\\anaconda3\\envs\\pythonclasses\\lib\\site-packages (from pandas) (1.21.6)\n",
      "Requirement already satisfied: six>=1.5 in c:\\users\\91984\\anaconda3\\envs\\pythonclasses\\lib\\site-packages (from python-dateutil>=2.7.3->pandas) (1.16.0)\n"
     ]
    }
   ],
   "source": [
    "!pip install pandas"
   ]
  },
  {
   "cell_type": "code",
   "execution_count": 2,
   "id": "07c3f658",
   "metadata": {},
   "outputs": [
    {
     "ename": "SyntaxError",
     "evalue": "invalid syntax (298874152.py, line 2)",
     "output_type": "error",
     "traceback": [
      "\u001b[1;36m  File \u001b[1;32m\"C:\\Users\\91984\\AppData\\Local\\Temp\\ipykernel_9092\\298874152.py\"\u001b[1;36m, line \u001b[1;32m2\u001b[0m\n\u001b[1;33m    Import numpy as np\u001b[0m\n\u001b[1;37m               ^\u001b[0m\n\u001b[1;31mSyntaxError\u001b[0m\u001b[1;31m:\u001b[0m invalid syntax\n"
     ]
    }
   ],
   "source": [
    " ### Importing the library"
   ]
  },
  {
   "cell_type": "code",
   "execution_count": 3,
   "id": "524ae577",
   "metadata": {},
   "outputs": [],
   "source": [
    "### Importing the library"
   ]
  },
  {
   "cell_type": "code",
   "execution_count": 4,
   "id": "fc32c26d",
   "metadata": {},
   "outputs": [
    {
     "name": "stdout",
     "output_type": "stream",
     "text": [
      "Requirement already satisfied: numpy in c:\\users\\91984\\anaconda3\\envs\\pythonclasses\\lib\\site-packages (1.21.6)\n",
      "Note: you may need to restart the kernel to use updated packages.\n"
     ]
    }
   ],
   "source": [
    "pip install numpy"
   ]
  },
  {
   "cell_type": "code",
   "execution_count": 5,
   "id": "9312f899",
   "metadata": {},
   "outputs": [],
   "source": [
    "import numpy as np"
   ]
  },
  {
   "cell_type": "code",
   "execution_count": 7,
   "id": "0662f8cf",
   "metadata": {},
   "outputs": [
    {
     "data": {
      "text/plain": [
       "array([[[0.46316899, 0.16762074, 0.09825964, 0.33681815],\n",
       "        [0.23856611, 0.1586651 , 0.79552618, 0.93110534],\n",
       "        [0.08929255, 0.63131293, 0.40553076, 0.04243307]],\n",
       "\n",
       "       [[0.58846265, 0.07382225, 0.62269637, 0.11072468],\n",
       "        [0.43028547, 0.29884205, 0.93490238, 0.57543616],\n",
       "        [0.3889291 , 0.4663487 , 0.06779454, 0.95469526]]])"
      ]
     },
     "execution_count": 7,
     "metadata": {},
     "output_type": "execute_result"
    }
   ],
   "source": [
    "# 3D array\n",
    "data_array= np.random.rand(2, 3, 4)\n",
    "random_data"
   ]
  },
  {
   "cell_type": "markdown",
   "id": "623a1bdd",
   "metadata": {},
   "source": [
    "### A matrix with all zeros"
   ]
  },
  {
   "cell_type": "code",
   "execution_count": 10,
   "id": "b33868e9",
   "metadata": {},
   "outputs": [
    {
     "data": {
      "text/plain": [
       "array([[[0., 0.],\n",
       "        [0., 0.]],\n",
       "\n",
       "       [[0., 0.],\n",
       "        [0., 0.]]])"
      ]
     },
     "execution_count": 10,
     "metadata": {},
     "output_type": "execute_result"
    }
   ],
   "source": [
    "zeros = np.zeros((2, 2, 2))\n",
    "zeros"
   ]
  },
  {
   "cell_type": "code",
   "execution_count": 11,
   "id": "09d2f021",
   "metadata": {},
   "outputs": [
    {
     "data": {
      "text/plain": [
       "array([[[1., 1.],\n",
       "        [1., 1.]],\n",
       "\n",
       "       [[1., 1.],\n",
       "        [1., 1.]]])"
      ]
     },
     "execution_count": 11,
     "metadata": {},
     "output_type": "execute_result"
    }
   ],
   "source": [
    "ones = np.ones((2, 2, 2))\n",
    "ones"
   ]
  },
  {
   "cell_type": "code",
   "execution_count": 12,
   "id": "9b69067e",
   "metadata": {},
   "outputs": [
    {
     "data": {
      "text/plain": [
       "numpy.float64"
      ]
     },
     "execution_count": 12,
     "metadata": {},
     "output_type": "execute_result"
    }
   ],
   "source": [
    "type(ones[1][1][1])"
   ]
  },
  {
   "cell_type": "code",
   "execution_count": 17,
   "id": "95396620",
   "metadata": {},
   "outputs": [
    {
     "data": {
      "text/plain": [
       "array([[[10, 10, 10, 10],\n",
       "        [10, 10, 10, 10],\n",
       "        [10, 10, 10, 10]],\n",
       "\n",
       "       [[10, 10, 10, 10],\n",
       "        [10, 10, 10, 10],\n",
       "        [10, 10, 10, 10]]])"
      ]
     },
     "execution_count": 17,
     "metadata": {},
     "output_type": "execute_result"
    }
   ],
   "source": [
    "full = np.full((2, 3, 4), 10)\n",
    "full"
   ]
  },
  {
   "cell_type": "markdown",
   "id": "a398c1a1",
   "metadata": {},
   "source": [
    "### Matrix with different numbers "
   ]
  },
  {
   "cell_type": "code",
   "execution_count": 19,
   "id": "9203c290",
   "metadata": {},
   "outputs": [
    {
     "data": {
      "text/plain": [
       "matrix([[1, 2, 3, 4],\n",
       "        [5, 6, 7, 8]])"
      ]
     },
     "execution_count": 19,
     "metadata": {},
     "output_type": "execute_result"
    }
   ],
   "source": [
    "matrix_dn = np.matrix(\n",
    "    [[1, 2, 3, 4],\n",
    "    [5, 6, 7, 8]],\n",
    ")\n",
    "matrix_dn"
   ]
  },
  {
   "cell_type": "markdown",
   "id": "2f981704",
   "metadata": {},
   "source": [
    "#### Matrix Info"
   ]
  },
  {
   "cell_type": "markdown",
   "id": "434dae09",
   "metadata": {},
   "source": [
    "##### Shape of the matrix "
   ]
  },
  {
   "cell_type": "code",
   "execution_count": 20,
   "id": "f0157f18",
   "metadata": {},
   "outputs": [
    {
     "data": {
      "text/plain": [
       "(2, 4)"
      ]
     },
     "execution_count": 20,
     "metadata": {},
     "output_type": "execute_result"
    }
   ],
   "source": [
    "matrix_dn.shape"
   ]
  },
  {
   "cell_type": "markdown",
   "id": "8a5e1e67",
   "metadata": {},
   "source": [
    "#### Number of elements in a matrix"
   ]
  },
  {
   "cell_type": "code",
   "execution_count": 22,
   "id": "3aeb740d",
   "metadata": {},
   "outputs": [
    {
     "data": {
      "text/plain": [
       "8"
      ]
     },
     "execution_count": 22,
     "metadata": {},
     "output_type": "execute_result"
    }
   ],
   "source": [
    "matrix_dn.size"
   ]
  },
  {
   "cell_type": "markdown",
   "id": "f93918fe",
   "metadata": {},
   "source": [
    "#### 1.Why do we need numpy?"
   ]
  },
  {
   "cell_type": "markdown",
   "id": "e6b6d155",
   "metadata": {},
   "source": [
    "#### 2.What are arrays in your machine learning problem?"
   ]
  },
  {
   "cell_type": "code",
   "execution_count": 24,
   "id": "b5bd6379",
   "metadata": {},
   "outputs": [],
   "source": [
    "import pandas as pd"
   ]
  },
  {
   "cell_type": "markdown",
   "id": "26c2591c",
   "metadata": {},
   "source": [
    "#### Converting a DataFrame to a numpy array "
   ]
  },
  {
   "cell_type": "code",
   "execution_count": 25,
   "id": "efa328c3",
   "metadata": {},
   "outputs": [
    {
     "ename": "NameError",
     "evalue": "name 'data' is not defined",
     "output_type": "error",
     "traceback": [
      "\u001b[1;31m---------------------------------------------------------------------------\u001b[0m",
      "\u001b[1;31mNameError\u001b[0m                                 Traceback (most recent call last)",
      "\u001b[1;32m~\\AppData\\Local\\Temp\\ipykernel_9092\\2932347234.py\u001b[0m in \u001b[0;36m<module>\u001b[1;34m\u001b[0m\n\u001b[1;32m----> 1\u001b[1;33m \u001b[0mdata_array\u001b[0m \u001b[1;33m=\u001b[0m \u001b[0mdata\u001b[0m\u001b[1;33m.\u001b[0m\u001b[0mto_numpy\u001b[0m\u001b[1;33m(\u001b[0m\u001b[1;33m)\u001b[0m\u001b[1;33m\u001b[0m\u001b[1;33m\u001b[0m\u001b[0m\n\u001b[0m",
      "\u001b[1;31mNameError\u001b[0m: name 'data' is not defined"
     ]
    }
   ],
   "source": [
    "data_array = data.to_numpy()"
   ]
  },
  {
   "cell_type": "code",
   "execution_count": 26,
   "id": "6138bd24",
   "metadata": {},
   "outputs": [
    {
     "ename": "NameError",
     "evalue": "name 'data_array' is not defined",
     "output_type": "error",
     "traceback": [
      "\u001b[1;31m---------------------------------------------------------------------------\u001b[0m",
      "\u001b[1;31mNameError\u001b[0m                                 Traceback (most recent call last)",
      "\u001b[1;32m~\\AppData\\Local\\Temp\\ipykernel_9092\\3471469567.py\u001b[0m in \u001b[0;36m<module>\u001b[1;34m\u001b[0m\n\u001b[1;32m----> 1\u001b[1;33m \u001b[0mdata_array\u001b[0m\u001b[1;33m\u001b[0m\u001b[1;33m\u001b[0m\u001b[0m\n\u001b[0m",
      "\u001b[1;31mNameError\u001b[0m: name 'data_array' is not defined"
     ]
    }
   ],
   "source": [
    "data_array"
   ]
  },
  {
   "cell_type": "markdown",
   "id": "62537ff1",
   "metadata": {},
   "source": [
    "### Slicing"
   ]
  },
  {
   "cell_type": "code",
   "execution_count": 30,
   "id": "88e55935",
   "metadata": {},
   "outputs": [
    {
     "data": {
      "text/plain": [
       "array([[[0.46316899, 0.16762074, 0.09825964, 0.33681815],\n",
       "        [0.23856611, 0.1586651 , 0.79552618, 0.93110534],\n",
       "        [0.08929255, 0.63131293, 0.40553076, 0.04243307]],\n",
       "\n",
       "       [[0.58846265, 0.07382225, 0.62269637, 0.11072468],\n",
       "        [0.43028547, 0.29884205, 0.93490238, 0.57543616],\n",
       "        [0.3889291 , 0.4663487 , 0.06779454, 0.95469526]]])"
      ]
     },
     "execution_count": 30,
     "metadata": {},
     "output_type": "execute_result"
    }
   ],
   "source": [
    "random_data"
   ]
  },
  {
   "cell_type": "markdown",
   "id": "b4ed0535",
   "metadata": {},
   "source": [
    "##### Slicing one matrix out of n-matrix"
   ]
  },
  {
   "cell_type": "code",
   "execution_count": 31,
   "id": "60ca07e3",
   "metadata": {},
   "outputs": [
    {
     "data": {
      "text/plain": [
       "array([[0.46316899, 0.16762074, 0.09825964, 0.33681815],\n",
       "       [0.23856611, 0.1586651 , 0.79552618, 0.93110534],\n",
       "       [0.08929255, 0.63131293, 0.40553076, 0.04243307]])"
      ]
     },
     "execution_count": 31,
     "metadata": {},
     "output_type": "execute_result"
    }
   ],
   "source": [
    "one_matrix = random_data[0]\n",
    "one_matrix"
   ]
  },
  {
   "cell_type": "markdown",
   "id": "6013c399",
   "metadata": {},
   "source": [
    "##### Slicing couple of rows"
   ]
  },
  {
   "cell_type": "code",
   "execution_count": 33,
   "id": "40cfc58f",
   "metadata": {},
   "outputs": [
    {
     "data": {
      "text/plain": [
       "array([[0.46316899, 0.16762074, 0.09825964, 0.33681815],\n",
       "       [0.23856611, 0.1586651 , 0.79552618, 0.93110534]])"
      ]
     },
     "execution_count": 33,
     "metadata": {},
     "output_type": "execute_result"
    }
   ],
   "source": [
    "row_slicing = random_data[0][0:2]\n",
    "row_slicing"
   ]
  },
  {
   "cell_type": "code",
   "execution_count": 35,
   "id": "91ca9c10",
   "metadata": {},
   "outputs": [
    {
     "data": {
      "text/plain": [
       "0.2988420528067238"
      ]
     },
     "execution_count": 35,
     "metadata": {},
     "output_type": "execute_result"
    }
   ],
   "source": [
    "value_slicing = random_data[1][1][1]\n",
    "value_slicing "
   ]
  },
  {
   "cell_type": "markdown",
   "id": "0424d18d",
   "metadata": {},
   "source": [
    "#### Basic Maths"
   ]
  },
  {
   "cell_type": "markdown",
   "id": "52ab5ee0",
   "metadata": {},
   "source": [
    "##### Let's create two matrices"
   ]
  },
  {
   "cell_type": "code",
   "execution_count": 37,
   "id": "0588d4ee",
   "metadata": {},
   "outputs": [],
   "source": [
    "matrix1 = np.random.rand(10)\n",
    "matrix2 = np.random.rand(10)"
   ]
  },
  {
   "cell_type": "code",
   "execution_count": 38,
   "id": "30901967",
   "metadata": {},
   "outputs": [
    {
     "data": {
      "text/plain": [
       "array([0.90342312, 0.5958737 , 0.39067655, 0.02633053, 0.12024752,\n",
       "       0.7850227 , 0.32824942, 0.63633219, 0.68203819, 0.66593065])"
      ]
     },
     "execution_count": 38,
     "metadata": {},
     "output_type": "execute_result"
    }
   ],
   "source": [
    "matrix1 "
   ]
  },
  {
   "cell_type": "code",
   "execution_count": 39,
   "id": "bc348633",
   "metadata": {},
   "outputs": [
    {
     "data": {
      "text/plain": [
       "array([0.81407285, 0.41647058, 0.19864017, 0.24700515, 0.85391874,\n",
       "       0.65061249, 0.75289301, 0.36057609, 0.96592746, 0.34132527])"
      ]
     },
     "execution_count": 39,
     "metadata": {},
     "output_type": "execute_result"
    }
   ],
   "source": [
    "matrix2"
   ]
  },
  {
   "cell_type": "markdown",
   "id": "765c4764",
   "metadata": {},
   "source": [
    "### Addition"
   ]
  },
  {
   "cell_type": "code",
   "execution_count": 40,
   "id": "fd9574bd",
   "metadata": {},
   "outputs": [
    {
     "data": {
      "text/plain": [
       "array([1.71749597, 1.01234427, 0.58931672, 0.27333568, 0.97416625,\n",
       "       1.43563519, 1.08114243, 0.99690828, 1.64796566, 1.00725592])"
      ]
     },
     "execution_count": 40,
     "metadata": {},
     "output_type": "execute_result"
    }
   ],
   "source": [
    "add = np.add(matrix1, matrix2)\n",
    "add"
   ]
  },
  {
   "cell_type": "markdown",
   "id": "0bee33ef",
   "metadata": {},
   "source": [
    "### Subtraction"
   ]
  },
  {
   "cell_type": "code",
   "execution_count": 42,
   "id": "530c77ec",
   "metadata": {},
   "outputs": [
    {
     "data": {
      "text/plain": [
       "array([ 0.08935027,  0.17940312,  0.19203638, -0.22067462, -0.73367122,\n",
       "        0.1344102 , -0.4246436 ,  0.27575611, -0.28388927,  0.32460539])"
      ]
     },
     "execution_count": 42,
     "metadata": {},
     "output_type": "execute_result"
    }
   ],
   "source": [
    "subtract = np.subtract(matrix1, matrix2)\n",
    "subtract "
   ]
  },
  {
   "cell_type": "markdown",
   "id": "b8a27422",
   "metadata": {},
   "source": [
    "### Division"
   ]
  },
  {
   "cell_type": "code",
   "execution_count": 47,
   "id": "0f25f90f",
   "metadata": {},
   "outputs": [
    {
     "data": {
      "text/plain": [
       "array([1.10975709, 1.43077022, 1.96675501, 0.10659912, 0.14081845,\n",
       "       1.20659026, 0.43598414, 1.76476538, 0.7060967 , 1.95101482])"
      ]
     },
     "execution_count": 47,
     "metadata": {},
     "output_type": "execute_result"
    }
   ],
   "source": [
    "div = np.divide(matrix1, matrix2)\n",
    "div"
   ]
  },
  {
   "cell_type": "markdown",
   "id": "1d0e5e19",
   "metadata": {},
   "source": [
    "### Multipication"
   ]
  },
  {
   "cell_type": "code",
   "execution_count": 54,
   "id": "21879907",
   "metadata": {
    "scrolled": true
   },
   "outputs": [
    {
     "data": {
      "text/plain": [
       "array([0.73545224, 0.24816386, 0.07760406, 0.00650378, 0.10268161,\n",
       "       0.51074558, 0.24713669, 0.22944617, 0.65879942, 0.22729896])"
      ]
     },
     "execution_count": 54,
     "metadata": {},
     "output_type": "execute_result"
    }
   ],
   "source": [
    "mult = np.multiply(matrix1, matrix2)\n",
    "mult"
   ]
  },
  {
   "cell_type": "markdown",
   "id": "6dde2723",
   "metadata": {},
   "source": [
    "### Dot product"
   ]
  },
  {
   "cell_type": "code",
   "execution_count": 55,
   "id": "a38c748e",
   "metadata": {},
   "outputs": [
    {
     "data": {
      "text/plain": [
       "3.0438323595670838"
      ]
     },
     "execution_count": 55,
     "metadata": {},
     "output_type": "execute_result"
    }
   ],
   "source": [
    "dot = np.dot(matrix1, matrix2)\n",
    "dot "
   ]
  },
  {
   "cell_type": "markdown",
   "id": "131c6eaa",
   "metadata": {},
   "source": [
    "### Transpose "
   ]
  },
  {
   "cell_type": "code",
   "execution_count": 56,
   "id": "3ce4052d",
   "metadata": {},
   "outputs": [],
   "source": [
    "# Before transpose"
   ]
  },
  {
   "cell_type": "code",
   "execution_count": 57,
   "id": "33e9a8cf",
   "metadata": {},
   "outputs": [
    {
     "data": {
      "text/plain": [
       "array([[[0.46316899, 0.16762074, 0.09825964, 0.33681815],\n",
       "        [0.23856611, 0.1586651 , 0.79552618, 0.93110534],\n",
       "        [0.08929255, 0.63131293, 0.40553076, 0.04243307]],\n",
       "\n",
       "       [[0.58846265, 0.07382225, 0.62269637, 0.11072468],\n",
       "        [0.43028547, 0.29884205, 0.93490238, 0.57543616],\n",
       "        [0.3889291 , 0.4663487 , 0.06779454, 0.95469526]]])"
      ]
     },
     "execution_count": 57,
     "metadata": {},
     "output_type": "execute_result"
    }
   ],
   "source": [
    "random_data"
   ]
  },
  {
   "cell_type": "code",
   "execution_count": null,
   "id": "2fbd08f6",
   "metadata": {},
   "outputs": [],
   "source": [
    "# Transpose "
   ]
  },
  {
   "cell_type": "code",
   "execution_count": 60,
   "id": "8e58d13b",
   "metadata": {},
   "outputs": [
    {
     "data": {
      "text/plain": [
       "array([[[0.46316899, 0.58846265],\n",
       "        [0.23856611, 0.43028547],\n",
       "        [0.08929255, 0.3889291 ]],\n",
       "\n",
       "       [[0.16762074, 0.07382225],\n",
       "        [0.1586651 , 0.29884205],\n",
       "        [0.63131293, 0.4663487 ]],\n",
       "\n",
       "       [[0.09825964, 0.62269637],\n",
       "        [0.79552618, 0.93490238],\n",
       "        [0.40553076, 0.06779454]],\n",
       "\n",
       "       [[0.33681815, 0.11072468],\n",
       "        [0.93110534, 0.57543616],\n",
       "        [0.04243307, 0.95469526]]])"
      ]
     },
     "execution_count": 60,
     "metadata": {},
     "output_type": "execute_result"
    }
   ],
   "source": [
    "transpose = np.transpose(random_data)\n",
    "transpose"
   ]
  },
  {
   "cell_type": "markdown",
   "id": "003c932b",
   "metadata": {},
   "source": [
    "#### Basic stats "
   ]
  },
  {
   "cell_type": "code",
   "execution_count": 63,
   "id": "9a65aa21",
   "metadata": {},
   "outputs": [
    {
     "data": {
      "text/plain": [
       "0.5466644791887652"
      ]
     },
     "execution_count": 63,
     "metadata": {},
     "output_type": "execute_result"
    }
   ],
   "source": [
    "np.sqrt(random_data[1][1][1])"
   ]
  },
  {
   "cell_type": "code",
   "execution_count": 65,
   "id": "64e3b8f6",
   "metadata": {},
   "outputs": [
    {
     "data": {
      "text/plain": [
       "5.0"
      ]
     },
     "execution_count": 65,
     "metadata": {},
     "output_type": "execute_result"
    }
   ],
   "source": [
    "np.sqrt(25)"
   ]
  },
  {
   "cell_type": "code",
   "execution_count": 66,
   "id": "237ad412",
   "metadata": {},
   "outputs": [
    {
     "data": {
      "text/plain": [
       "2.5"
      ]
     },
     "execution_count": 66,
     "metadata": {},
     "output_type": "execute_result"
    }
   ],
   "source": [
    "np.abs(2.5)"
   ]
  },
  {
   "cell_type": "code",
   "execution_count": 67,
   "id": "bea8ee08",
   "metadata": {},
   "outputs": [
    {
     "data": {
      "text/plain": [
       "128"
      ]
     },
     "execution_count": 67,
     "metadata": {},
     "output_type": "execute_result"
    }
   ],
   "source": [
    "np.power(2, 7)"
   ]
  },
  {
   "cell_type": "code",
   "execution_count": 69,
   "id": "5597648a",
   "metadata": {},
   "outputs": [
    {
     "data": {
      "text/plain": [
       "3.044522437723423"
      ]
     },
     "execution_count": 69,
     "metadata": {},
     "output_type": "execute_result"
    }
   ],
   "source": [
    "np.log(21)"
   ]
  },
  {
   "cell_type": "code",
   "execution_count": 71,
   "id": "2304f85d",
   "metadata": {},
   "outputs": [
    {
     "data": {
      "text/plain": [
       "0.9034231196390674"
      ]
     },
     "execution_count": 71,
     "metadata": {},
     "output_type": "execute_result"
    }
   ],
   "source": [
    "np.max(matrix1)"
   ]
  },
  {
   "cell_type": "code",
   "execution_count": 72,
   "id": "ddaac335",
   "metadata": {},
   "outputs": [
    {
     "data": {
      "text/plain": [
       "0.19864017190024008"
      ]
     },
     "execution_count": 72,
     "metadata": {},
     "output_type": "execute_result"
    }
   ],
   "source": [
    "np.min(matrix2)"
   ]
  }
 ],
 "metadata": {
  "kernelspec": {
   "display_name": "Python 3 (ipykernel)",
   "language": "python",
   "name": "python3"
  },
  "language_info": {
   "codemirror_mode": {
    "name": "ipython",
    "version": 3
   },
   "file_extension": ".py",
   "mimetype": "text/x-python",
   "name": "python",
   "nbconvert_exporter": "python",
   "pygments_lexer": "ipython3",
   "version": "3.7.16"
  }
 },
 "nbformat": 4,
 "nbformat_minor": 5
}
