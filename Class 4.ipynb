{
 "cells": [
  {
   "cell_type": "code",
   "execution_count": 2,
   "id": "4de2db04",
   "metadata": {},
   "outputs": [
    {
     "name": "stdout",
     "output_type": "stream",
     "text": [
      "Requirement already satisfied: biopython in c:\\users\\91984\\anaconda3\\envs\\pythonclassesformansichandra\\lib\\site-packages (1.81)\n",
      "Requirement already satisfied: numpy in c:\\users\\91984\\anaconda3\\envs\\pythonclassesformansichandra\\lib\\site-packages (from biopython) (1.21.6)\n"
     ]
    }
   ],
   "source": [
    "#!pip install biopython"
   ]
  },
  {
   "cell_type": "code",
   "execution_count": 4,
   "id": "752239f1",
   "metadata": {},
   "outputs": [
    {
     "name": "stdout",
     "output_type": "stream",
     "text": [
      " Volume in drive C has no label.\n",
      " Volume Serial Number is B8A9-6E5F\n",
      "\n",
      " Directory of C:\\Users\\91984\\Desktop\\Python-Classes-July\n",
      "\n",
      "23-07-2023  13:44    <DIR>          .\n",
      "21-07-2023  13:05    <DIR>          ..\n",
      "17-07-2023  22:00    <DIR>          .horme\n",
      "23-07-2023  13:44    <DIR>          .ipynb_checkpoints\n",
      "19-07-2023  09:06             4,082 Class 1 .ipynb\n",
      "20-07-2023  10:53            17,971 Class 2.ipynb\n",
      "20-07-2023  18:31            12,807 Class 3.ipynb\n",
      "22-07-2023  11:36             1,501 Class 4 Strings and Functions .ipynb\n",
      "23-07-2023  13:44                72 Class 4.ipynb\n",
      "20-07-2023  19:30            15,784 Untitled.ipynb\n",
      "               6 File(s)         52,217 bytes\n",
      "               4 Dir(s)  109,974,163,456 bytes free\n"
     ]
    }
   ],
   "source": [
    "!dir"
   ]
  },
  {
   "cell_type": "code",
   "execution_count": 6,
   "id": "b2e83d2b",
   "metadata": {},
   "outputs": [],
   "source": [
    "from Bio.Seq import Seq "
   ]
  },
  {
   "cell_type": "code",
   "execution_count": 7,
   "id": "a0519fe6",
   "metadata": {},
   "outputs": [],
   "source": [
    "my_Seq=Seq('AAGCTTAGGGC')"
   ]
  },
  {
   "cell_type": "code",
   "execution_count": 9,
   "id": "2b20997a",
   "metadata": {},
   "outputs": [
    {
     "name": "stdout",
     "output_type": "stream",
     "text": [
      "AAGCTTAGGGC\n"
     ]
    }
   ],
   "source": [
    "print(my_Seq)"
   ]
  },
  {
   "cell_type": "code",
   "execution_count": 11,
   "id": "db57edda",
   "metadata": {},
   "outputs": [
    {
     "data": {
      "text/plain": [
       "11"
      ]
     },
     "execution_count": 11,
     "metadata": {},
     "output_type": "execute_result"
    }
   ],
   "source": [
    "len(my_Seq)"
   ]
  },
  {
   "cell_type": "markdown",
   "id": "beb7a69a",
   "metadata": {},
   "source": [
    "### What a code to print the Nucleotidw in my_Seq along with its index. Use for loop ###"
   ]
  },
  {
   "cell_type": "code",
   "execution_count": 15,
   "id": "1b7c8ae4",
   "metadata": {},
   "outputs": [
    {
     "name": "stdout",
     "output_type": "stream",
     "text": [
      "0   A\n",
      "1   A\n",
      "2   G\n",
      "3   C\n",
      "4   T\n",
      "5   T\n",
      "6   A\n",
      "7   G\n",
      "8   G\n",
      "9   G\n",
      "10   C\n"
     ]
    }
   ],
   "source": [
    "for i in range(len(my_Seq)):\n",
    "    print(i, \" \",my_Seq[i])"
   ]
  },
  {
   "cell_type": "code",
   "execution_count": 18,
   "id": "21996cd1",
   "metadata": {},
   "outputs": [
    {
     "data": {
      "text/plain": [
       "'C'"
      ]
     },
     "execution_count": 18,
     "metadata": {},
     "output_type": "execute_result"
    }
   ],
   "source": [
    "my_Seq[3]"
   ]
  },
  {
   "cell_type": "code",
   "execution_count": 20,
   "id": "cf35cafa",
   "metadata": {},
   "outputs": [
    {
     "data": {
      "text/plain": [
       "'A'"
      ]
     },
     "execution_count": 20,
     "metadata": {},
     "output_type": "execute_result"
    }
   ],
   "source": [
    "my_Seq[6]"
   ]
  },
  {
   "cell_type": "code",
   "execution_count": 21,
   "id": "03538209",
   "metadata": {},
   "outputs": [
    {
     "data": {
      "text/plain": [
       "4"
      ]
     },
     "execution_count": 21,
     "metadata": {},
     "output_type": "execute_result"
    }
   ],
   "source": [
    "my_Seq.count('G')"
   ]
  },
  {
   "cell_type": "code",
   "execution_count": 23,
   "id": "2bfaa664",
   "metadata": {},
   "outputs": [
    {
     "data": {
      "text/plain": [
       "3"
      ]
     },
     "execution_count": 23,
     "metadata": {},
     "output_type": "execute_result"
    }
   ],
   "source": [
    "my_Seq.count('A')"
   ]
  },
  {
   "cell_type": "code",
   "execution_count": 26,
   "id": "56a739cd",
   "metadata": {},
   "outputs": [
    {
     "data": {
      "text/plain": [
       "1"
      ]
     },
     "execution_count": 26,
     "metadata": {},
     "output_type": "execute_result"
    }
   ],
   "source": [
    "my_Seq.count('GGG')"
   ]
  },
  {
   "cell_type": "markdown",
   "id": "87e8c1a4",
   "metadata": {},
   "source": [
    "### What is the percentage of GC content in my sequence ###"
   ]
  },
  {
   "cell_type": "code",
   "execution_count": 29,
   "id": "0b4b229a",
   "metadata": {},
   "outputs": [
    {
     "data": {
      "text/plain": [
       "54.54545454545454"
      ]
     },
     "execution_count": 29,
     "metadata": {},
     "output_type": "execute_result"
    }
   ],
   "source": [
    "((my_Seq.count('G') + my_Seq.count('C'))/len(my_Seq))*100"
   ]
  },
  {
   "cell_type": "code",
   "execution_count": 31,
   "id": "e306a520",
   "metadata": {},
   "outputs": [
    {
     "name": "stderr",
     "output_type": "stream",
     "text": [
      "C:\\Users\\91984\\anaconda3\\envs\\pythonclassesformansichandra\\lib\\site-packages\\Bio\\SeqUtils\\__init__.py:146: BiopythonDeprecationWarning: GC is deprecated; please use gc_fraction instead.\n",
      "  BiopythonDeprecationWarning,\n"
     ]
    },
    {
     "data": {
      "text/plain": [
       "54.54545454545455"
      ]
     },
     "execution_count": 31,
     "metadata": {},
     "output_type": "execute_result"
    }
   ],
   "source": [
    "from Bio.SeqUtils import GC\n",
    "GC(my_Seq)"
   ]
  },
  {
   "cell_type": "code",
   "execution_count": 33,
   "id": "2fabbd1b",
   "metadata": {},
   "outputs": [
    {
     "data": {
      "text/plain": [
       "Seq('AAGC')"
      ]
     },
     "execution_count": 33,
     "metadata": {},
     "output_type": "execute_result"
    }
   ],
   "source": [
    "my_Seq[0:4]"
   ]
  },
  {
   "cell_type": "code",
   "execution_count": 34,
   "id": "dba19d47",
   "metadata": {},
   "outputs": [
    {
     "ename": "ModuleNotFoundError",
     "evalue": "No module named 'Bio.seqUtils'",
     "output_type": "error",
     "traceback": [
      "\u001b[1;31m---------------------------------------------------------------------------\u001b[0m",
      "\u001b[1;31mModuleNotFoundError\u001b[0m                       Traceback (most recent call last)",
      "\u001b[1;32m~\\AppData\\Local\\Temp\\ipykernel_11584\\1749053751.py\u001b[0m in \u001b[0;36m<module>\u001b[1;34m\u001b[0m\n\u001b[1;32m----> 1\u001b[1;33m \u001b[1;32mfrom\u001b[0m \u001b[0mBio\u001b[0m\u001b[1;33m.\u001b[0m\u001b[0mseqUtils\u001b[0m \u001b[1;32mimport\u001b[0m \u001b[0mAT\u001b[0m\u001b[1;33m\u001b[0m\u001b[1;33m\u001b[0m\u001b[0m\n\u001b[0m\u001b[0;32m      2\u001b[0m \u001b[0mAT\u001b[0m\u001b[1;33m(\u001b[0m\u001b[0mmy_Seq\u001b[0m\u001b[1;33m)\u001b[0m\u001b[1;33m\u001b[0m\u001b[1;33m\u001b[0m\u001b[0m\n",
      "\u001b[1;31mModuleNotFoundError\u001b[0m: No module named 'Bio.seqUtils'"
     ]
    }
   ],
   "source": [
    "from Bio.seqUtils import AT\n",
    "AT(my_Seq)"
   ]
  },
  {
   "cell_type": "code",
   "execution_count": 35,
   "id": "26cb6b7c",
   "metadata": {},
   "outputs": [
    {
     "data": {
      "text/plain": [
       "'AAGCTTAGGGC'"
      ]
     },
     "execution_count": 35,
     "metadata": {},
     "output_type": "execute_result"
    }
   ],
   "source": [
    "str(my_Seq)"
   ]
  },
  {
   "cell_type": "code",
   "execution_count": 39,
   "id": "f17e729c",
   "metadata": {},
   "outputs": [],
   "source": [
    "Seq_1=Seq('AAGC')\n",
    "Seq_2=Seq('TTAGGGC')"
   ]
  },
  {
   "cell_type": "code",
   "execution_count": 40,
   "id": "6d9cd14c",
   "metadata": {},
   "outputs": [],
   "source": [
    "seq_3=Seq_1+Seq_2"
   ]
  }
 ],
 "metadata": {
  "kernelspec": {
   "display_name": "Python 3 (ipykernel)",
   "language": "python",
   "name": "python3"
  },
  "language_info": {
   "codemirror_mode": {
    "name": "ipython",
    "version": 3
   },
   "file_extension": ".py",
   "mimetype": "text/x-python",
   "name": "python",
   "nbconvert_exporter": "python",
   "pygments_lexer": "ipython3",
   "version": "3.7.16"
  }
 },
 "nbformat": 4,
 "nbformat_minor": 5
}
