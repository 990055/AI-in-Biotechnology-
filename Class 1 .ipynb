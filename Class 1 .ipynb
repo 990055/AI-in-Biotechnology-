{
 "cells": [
  {
   "cell_type": "code",
   "execution_count": 2,
   "id": "15f43dfe",
   "metadata": {},
   "outputs": [
    {
     "name": "stdout",
     "output_type": "stream",
     "text": [
      "Mansi Chandra\n"
     ]
    }
   ],
   "source": [
    "print(\"Mansi Chandra\")"
   ]
  },
  {
   "cell_type": "markdown",
   "id": "4ff61583",
   "metadata": {},
   "source": [
    "###### This is the first for python and which is being held on 17th July#####"
   ]
  },
  {
   "cell_type": "code",
   "execution_count": 4,
   "id": "bf8ccb43",
   "metadata": {},
   "outputs": [
    {
     "name": "stdout",
     "output_type": "stream",
     "text": [
      "Mansi\n"
     ]
    }
   ],
   "source": [
    "print(\"Mansi\")"
   ]
  },
  {
   "cell_type": "code",
   "execution_count": 6,
   "id": "9dccd68f",
   "metadata": {},
   "outputs": [
    {
     "name": "stdout",
     "output_type": "stream",
     "text": [
      "$$$$$$$$$$\n"
     ]
    }
   ],
   "source": [
    "print(\"$\"*10)"
   ]
  },
  {
   "cell_type": "code",
   "execution_count": 9,
   "id": "c4d55357",
   "metadata": {},
   "outputs": [
    {
     "name": "stdout",
     "output_type": "stream",
     "text": [
      "20\n"
     ]
    }
   ],
   "source": [
    "p=10\n",
    "p=20\n",
    "print(p)"
   ]
  },
  {
   "cell_type": "code",
   "execution_count": 11,
   "id": "6deb7e75",
   "metadata": {},
   "outputs": [
    {
     "name": "stdout",
     "output_type": "stream",
     "text": [
      "4.9\n"
     ]
    }
   ],
   "source": [
    "price=4.90\n",
    "print(price)"
   ]
  },
  {
   "cell_type": "code",
   "execution_count": 13,
   "id": "0b3e5ca0",
   "metadata": {},
   "outputs": [
    {
     "name": "stdout",
     "output_type": "stream",
     "text": [
      "True\n"
     ]
    }
   ],
   "source": [
    "flag=True\n",
    "print(flag)"
   ]
  },
  {
   "cell_type": "code",
   "execution_count": 15,
   "id": "e011b4f7",
   "metadata": {},
   "outputs": [
    {
     "name": "stdout",
     "output_type": "stream",
     "text": [
      "What is your name? Mansi\n",
      "Hi I am Mansi\n"
     ]
    }
   ],
   "source": [
    "name=input(\"What is your name?\")\n",
    "print(\"Hi I am\" +name)"
   ]
  },
  {
   "cell_type": "markdown",
   "id": "f5743429",
   "metadata": {},
   "source": [
    "Write a code 'What is your name' and 'What is your favourite colour' then write Mansi like pink"
   ]
  },
  {
   "cell_type": "code",
   "execution_count": 18,
   "id": "d5045916",
   "metadata": {},
   "outputs": [
    {
     "name": "stdout",
     "output_type": "stream",
     "text": [
      "What is your name?Mansi Chandra\n",
      "What is your favourite clour? Pink\n",
      "Mansi Chandralikes Pink\n"
     ]
    }
   ],
   "source": [
    "name=input(\"What is your name?\")\n",
    "colour=input(\"What is your favourite clour?\")\n",
    "print(name +  \"likes\"  + colour)"
   ]
  },
  {
   "cell_type": "markdown",
   "id": "26317486",
   "metadata": {},
   "source": [
    "write a code that you ask the year of birth from the user and print his\\her age"
   ]
  },
  {
   "cell_type": "code",
   "execution_count": null,
   "id": "db04178c",
   "metadata": {},
   "outputs": [],
   "source": [
    "name=input(\"What is your name?\")\n",
    "colour=input(\"What is your fav colour?\")\n",
    "birth=input(\"year of birth?\")\n",
    "Date=input(\"Please fill your bith date\")\n",
    "Gender=input(\"Please enter your gender\")\n",
    "Age=input(\"What is your age?\")\n",
    "print(name + \n",
    "     colour+\n",
    "     birth+\n",
    "     Date+\n",
    "     Gender+\n",
    "     Age)"
   ]
  }
 ],
 "metadata": {
  "kernelspec": {
   "display_name": "Python 3 (ipykernel)",
   "language": "python",
   "name": "python3"
  },
  "language_info": {
   "codemirror_mode": {
    "name": "ipython",
    "version": 3
   },
   "file_extension": ".py",
   "mimetype": "text/x-python",
   "name": "python",
   "nbconvert_exporter": "python",
   "pygments_lexer": "ipython3",
   "version": "3.7.16"
  }
 },
 "nbformat": 4,
 "nbformat_minor": 5
}
